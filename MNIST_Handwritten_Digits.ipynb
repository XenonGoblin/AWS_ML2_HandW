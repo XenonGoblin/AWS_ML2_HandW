{
 "cells": [
  {
   "cell_type": "markdown",
   "metadata": {},
   "source": [
    "# Introduction\n",
    "\n",
    "In this project, you will build a neural network of your own design to evaluate the MNIST dataset.\n",
    "\n",
    "Some of the benchmark results on MNIST include can be found [on Yann LeCun's page](http://yann.lecun.com/exdb/mnist/) and include:\n",
    "\n",
    "88% [Lecun et al., 1998](http://yann.lecun.com/exdb/publis/pdf/lecun-98.pdf)\n",
    "95.3% [Lecun et al., 1998](http://yann.lecun.com/exdb/publis/pdf/lecun-98.pdf)\n",
    "99.65% [Ciresan et al., 2011](http://people.idsia.ch/~juergen/ijcai2011.pdf)\n",
    "\n",
    "MNIST is a great dataset for sanity checking your models, since the accuracy levels achieved by large convolutional neural networks and small linear models are both quite high. This makes it important to be familiar with the data.\n",
    "\n",
    "## Imports"
   ]
  },
  {
   "cell_type": "code",
   "execution_count": 39,
   "metadata": {},
   "outputs": [],
   "source": [
    "## This cell contains the essential imports you will need – DO NOT CHANGE THE CONTENTS! ##\n",
    "import torch\n",
    "import torch.nn as nn\n",
    "import torch.nn.functional as F\n",
    "import torch.optim as optim\n",
    "import torchvision\n",
    "import torchvision.transforms as transforms\n",
    "import matplotlib.pyplot as plt\n",
    "import numpy as np"
   ]
  },
  {
   "cell_type": "markdown",
   "metadata": {},
   "source": [
    "## Load the Dataset\n",
    "\n",
    "Specify your transforms as a list if you intend to .\n",
    "The transforms module is already loaded as `transforms`.\n",
    "\n",
    "MNIST is fortunately included in the torchvision module.\n",
    "Then, you can create your dataset using the `MNIST` object from `torchvision.datasets` ([the documentation is available here](https://pytorch.org/vision/stable/datasets.html#mnist)).\n",
    "Make sure to specify `download=True`! \n",
    "\n",
    "Once your dataset is created, you'll also need to define a `DataLoader` from the `torch.utils.data` module for both the train and the test set."
   ]
  },
  {
   "cell_type": "code",
   "execution_count": 62,
   "metadata": {},
   "outputs": [],
   "source": [
    "# Define transforms\n",
    "transform = transforms.Compose(\n",
    "    [transforms.ToTensor(),\n",
    "    transforms.Normalize((0.5,), (0.5,)),\n",
    "    transforms.RandomRotation(5, fill=(-1,))\n",
    "    ])\n",
    "\n",
    "# Create training set and define training dataloader\n",
    "trainset = torchvision.datasets.MNIST(root='./data', train=True, download=True, transform=transform)\n",
    "testset = torchvision.datasets.MNIST(root='./data', train=False, download=True, transform=transform)\n",
    "notransformset = torchvision.datasets.MNIST(root='./data', train=True, download=True, transform=transforms.ToTensor())\n",
    "\n",
    "# 20% of training set for validation\n",
    "validset, trainset = torch.utils.data.random_split(trainset, [len(trainset)//5, 4*len(trainset)//5])\n",
    "\n",
    "trainloader = torch.utils.data.DataLoader(trainset, batch_size=len(trainset), shuffle=False)\n",
    "validloader = torch.utils.data.DataLoader(validset, batch_size=len(validset), shuffle=False)\n",
    "testloader = torch.utils.data.DataLoader(testset, batch_size=len(testset), shuffle=False)\n",
    "notransformloader = torch.utils.data.DataLoader(notransformset, batch_size=len(notransformset), shuffle=False)\n"
   ]
  },
  {
   "cell_type": "markdown",
   "metadata": {},
   "source": [
    "## Justify your preprocessing\n",
    "\n",
    "In your own words, why did you choose the transforms you chose? If you didn't use any preprocessing steps, why not?"
   ]
  },
  {
   "cell_type": "markdown",
   "metadata": {},
   "source": [
    "- Normalize the data to help with gradient descent.\n",
    "- Rotate the images by 5 degrees to make the model more robust to rotation and help it generalize better.\n",
    "- Flaten step happens in the model itself.\n",
    "- Shuffle is off because the entire dataset is used at once instead of batches."
   ]
  },
  {
   "cell_type": "markdown",
   "metadata": {},
   "source": [
    "## Explore the Dataset\n",
    "Using matplotlib, numpy, and torch, explore the dimensions of your data.\n",
    "\n",
    "You can view images using the `show5` function defined below – it takes a data loader as an argument.\n",
    "Remember that normalized images will look really weird to you! You may want to try changing your transforms to view images.\n",
    "Typically using no transforms other than `toTensor()` works well for viewing – but not as well for training your network.\n",
    "If `show5` doesn't work, go back and check your code for creating your data loaders and your training/test sets."
   ]
  },
  {
   "cell_type": "code",
   "execution_count": 41,
   "metadata": {},
   "outputs": [],
   "source": [
    "## This cell contains a function for showing 5 images from a dataloader – DO NOT CHANGE THE CONTENTS! ##\n",
    "def show5(img_loader):\n",
    "    dataiter = iter(img_loader)\n",
    "    \n",
    "    batch = next(dataiter)\n",
    "    labels = batch[1][0:5]\n",
    "    images = batch[0][0:5]\n",
    "    for i in range(5):\n",
    "        print(int(labels[i].detach()))\n",
    "    \n",
    "        image = images[i].numpy()\n",
    "        plt.imshow(image.T.squeeze().T)\n",
    "        plt.show()"
   ]
  },
  {
   "cell_type": "code",
   "execution_count": 63,
   "metadata": {},
   "outputs": [
    {
     "name": "stdout",
     "output_type": "stream",
     "text": [
      "5\n"
     ]
    },
    {
     "data": {
      "image/png": "[encoded data removed]",
      "text/plain": [
       "<matplotlib.figure.Figure at 0x7efd804668>"
      ]
     },
     "metadata": {
      "needs_background": "light"
     },
     "output_type": "display_data"
    },
    {
     "name": "stdout",
     "output_type": "stream",
     "text": [
      "0\n"
     ]
    },
    {
     "data": {
      "image/png": "[encoded data removed]",
      "text/plain": [
       "<matplotlib.figure.Figure at 0x7f0aa69e10>"
      ]
     },
     "metadata": {
      "needs_background": "light"
     },
     "output_type": "display_data"
    },
    {
     "name": "stdout",
     "output_type": "stream",
     "text": [
      "4\n"
     ]
    },
    {
     "data": {
      "image/png": "[encoded data removed]",
      "text/plain": [
       "<matplotlib.figure.Figure at 0x7efce6edd8>"
      ]
     },
     "metadata": {
      "needs_background": "light"
     },
     "output_type": "display_data"
    },
    {
     "name": "stdout",
     "output_type": "stream",
     "text": [
      "1\n"
     ]
    },
    {
     "data": {
      "image/png": "[encoded data removed]",
      "text/plain": [
       "<matplotlib.figure.Figure at 0x7efd60c160>"
      ]
     },
     "metadata": {
      "needs_background": "light"
     },
     "output_type": "display_data"
    },
    {
     "name": "stdout",
     "output_type": "stream",
     "text": [
      "9\n"
     ]
    },
    {
     "data": {
      "image/png": "[encoded data removed]",
      "text/plain": [
       "<matplotlib.figure.Figure at 0x7efd5ebda0>"
      ]
     },
     "metadata": {
      "needs_background": "light"
     },
     "output_type": "display_data"
    },
    {
     "name": "stdout",
     "output_type": "stream",
     "text": [
      "9\n"
     ]
    },
    {
     "data": {
      "image/png": "[encoded data removed]",
      "text/plain": [
       "<matplotlib.figure.Figure at 0x7efd548748>"
      ]
     },
     "metadata": {
      "needs_background": "light"
     },
     "output_type": "display_data"
    },
    {
     "name": "stdout",
     "output_type": "stream",
     "text": [
      "8\n"
     ]
    },
    {
     "data": {
      "image/png": "[encoded data removed]",
      "text/plain": [
       "<matplotlib.figure.Figure at 0x7efd560a20>"
      ]
     },
     "metadata": {
      "needs_background": "light"
     },
     "output_type": "display_data"
    },
    {
     "name": "stdout",
     "output_type": "stream",
     "text": [
      "0\n"
     ]
    },
    {
     "data": {
      "image/png": "[encoded data removed]",
      "text/plain": [
       "<matplotlib.figure.Figure at 0x7efd59db00>"
      ]
     },
     "metadata": {
      "needs_background": "light"
     },
     "output_type": "display_data"
    },
    {
     "name": "stdout",
     "output_type": "stream",
     "text": [
      "2\n"
     ]
    },
    {
     "data": {
      "image/png": "[encoded data removed]",
      "text/plain": [
       "<matplotlib.figure.Figure at 0x7efd62dcf8>"
      ]
     },
     "metadata": {
      "needs_background": "light"
     },
     "output_type": "display_data"
    },
    {
     "name": "stdout",
     "output_type": "stream",
     "text": [
      "6\n"
     ]
    },
    {
     "data": {
      "image/png": "[encoded data removed]",
      "text/plain": [
       "<matplotlib.figure.Figure at 0x7efcb089b0>"
      ]
     },
     "metadata": {
      "needs_background": "light"
     },
     "output_type": "display_data"
    }
   ],
   "source": [
    "# Explore data\n",
    "show5(notransformloader)\n",
    "show5(trainloader)"
   ]
  },
  {
   "cell_type": "markdown",
   "metadata": {},
   "source": [
    "## Build your Neural Network\n",
    "Using the layers in `torch.nn` (which has been imported as `nn`) and the `torch.nn.functional` module (imported as `F`), construct a neural network based on the parameters of the dataset.\n",
    "Use any architecture you like. \n",
    "\n",
    "*Note*: If you did not flatten your tensors in your transforms or as part of your preprocessing and you are using only `Linear` layers, make sure to use the `Flatten` layer in your network!"
   ]
  },
  {
   "cell_type": "code",
   "execution_count": 43,
   "metadata": {},
   "outputs": [],
   "source": [
    "class Net(nn.Module):\n",
    "    def __init__(self):\n",
    "        super(Net, self).__init__()\n",
    "        self.flatten = nn.Flatten()\n",
    "        self.linear1 = nn.Sequential(\n",
    "            nn.Linear(28*28, 1024),\n",
    "            nn.Dropout(0.2),\n",
    "            nn.LeakyReLU(),\n",
    "            nn.Linear(1024, 512),\n",
    "            nn.Dropout(0.2),\n",
    "            nn.LeakyReLU(),\n",
    "            nn.Linear(512, 256),\n",
    "            nn.Dropout(0.2),\n",
    "            nn.LeakyReLU(),\n",
    "            nn.Linear(256, 128),\n",
    "            nn.Dropout(0.2),\n",
    "            nn.LeakyReLU(),\n",
    "            nn.Linear(128, 10),\n",
    "            # nn.Dropout(0.2),\n",
    "            nn.Softmax(dim=1)\n",
    "        )\n",
    "    \n",
    "    def forward(self, x):\n",
    "        x = self.flatten(x)\n",
    "        logits = self.linear1(x)\n",
    "        return logits"
   ]
  },
  {
   "cell_type": "markdown",
   "metadata": {},
   "source": [
    "Specify a loss function and an optimizer, and instantiate the model.\n",
    "\n",
    "If you use a less common loss function, please note why you chose that loss function in a comment."
   ]
  },
  {
   "cell_type": "code",
   "execution_count": 44,
   "metadata": {},
   "outputs": [],
   "source": [
    "criterion = nn.CrossEntropyLoss()\n",
    "\n",
    "device = (\n",
    "    \"cuda\"\n",
    "    if torch.cuda.is_available()\n",
    "    else \"mps\"\n",
    "    if torch.backends.mps.is_available()\n",
    "    else \"cpu\"\n",
    ")\n",
    "print(f\"Using {device} device\")\n",
    "\n",
    "net = Net().to(device)\n",
    "print(net)\n",
    "\n",
    "optimizer = optim.Adam(net.parameters(), lr=0.001)"
   ]
  },
  {
   "cell_type": "markdown",
   "metadata": {},
   "source": [
    "## Running your Neural Network\n",
    "Use whatever method you like to train your neural network, and ensure you record the average loss at each epoch. \n",
    "Don't forget to use `torch.device()` and the `.to()` method for both your model and your data if you are using GPU!\n",
    "\n",
    "If you want to print your loss **during** each epoch, you can use the `enumerate` function and print the loss after a set number of batches. 250 batches works well for most people!"
   ]
  },
  {
   "cell_type": "code",
   "execution_count": 45,
   "metadata": {},
   "outputs": [
    {
     "name": "stdout",
     "output_type": "stream",
     "text": [
      "Using cuda device\n",
      "Net(\n",
      "  (flatten): Flatten(start_dim=1, end_dim=-1)\n",
      "  (linear1): Sequential(\n",
      "    (0): Linear(in_features=784, out_features=1024, bias=True)\n",
      "    (1): Dropout(p=0.2, inplace=False)\n",
      "    (2): LeakyReLU(negative_slope=0.01)\n",
      "    (3): Linear(in_features=1024, out_features=512, bias=True)\n",
      "    (4): Dropout(p=0.2, inplace=False)\n",
      "    (5): LeakyReLU(negative_slope=0.01)\n",
      "    (6): Linear(in_features=512, out_features=256, bias=True)\n",
      "    (7): Dropout(p=0.2, inplace=False)\n",
      "    (8): LeakyReLU(negative_slope=0.01)\n",
      "    (9): Linear(in_features=256, out_features=128, bias=True)\n",
      "    (10): Dropout(p=0.2, inplace=False)\n",
      "    (11): LeakyReLU(negative_slope=0.01)\n",
      "    (12): Linear(in_features=128, out_features=10, bias=True)\n",
      "    (13): Softmax(dim=1)\n",
      "  )\n",
      ")\n",
      "[1,     1] loss: 0.02299\n",
      "[2,     1] loss: 0.02289\n",
      "[3,     1] loss: 0.02266\n",
      "[4,     1] loss: 0.02219\n",
      "[5,     1] loss: 0.02162\n",
      "[6,     1] loss: 0.02179\n",
      "[7,     1] loss: 0.02149\n",
      "[8,     1] loss: 0.02198\n",
      "[9,     1] loss: 0.02115\n",
      "[10,     1] loss: 0.02074\n",
      "[11,     1] loss: 0.02043\n",
      "[12,     1] loss: 0.02013\n",
      "[13,     1] loss: 0.01993\n",
      "[14,     1] loss: 0.01973\n",
      "[15,     1] loss: 0.01931\n",
      "[16,     1] loss: 0.01937\n",
      "[17,     1] loss: 0.01909\n",
      "[18,     1] loss: 0.01866\n",
      "[19,     1] loss: 0.01873\n",
      "[20,     1] loss: 0.01857\n",
      "[21,     1] loss: 0.01830\n",
      "[22,     1] loss: 0.01826\n",
      "[23,     1] loss: 0.01811\n",
      "[24,     1] loss: 0.01789\n",
      "[25,     1] loss: 0.01782\n",
      "[26,     1] loss: 0.01769\n",
      "[27,     1] loss: 0.01765\n",
      "[28,     1] loss: 0.01748\n",
      "[29,     1] loss: 0.01742\n",
      "[30,     1] loss: 0.01740\n",
      "[31,     1] loss: 0.01730\n",
      "[32,     1] loss: 0.01723\n",
      "[33,     1] loss: 0.01712\n",
      "[34,     1] loss: 0.01707\n",
      "[35,     1] loss: 0.01702\n",
      "[36,     1] loss: 0.01699\n",
      "[37,     1] loss: 0.01694\n",
      "[38,     1] loss: 0.01686\n",
      "[39,     1] loss: 0.01684\n",
      "[40,     1] loss: 0.01680\n",
      "[41,     1] loss: 0.01676\n",
      "[42,     1] loss: 0.01672\n",
      "[43,     1] loss: 0.01668\n",
      "[44,     1] loss: 0.01665\n",
      "[45,     1] loss: 0.01662\n",
      "[46,     1] loss: 0.01659\n",
      "[47,     1] loss: 0.01657\n",
      "[48,     1] loss: 0.01654\n",
      "[49,     1] loss: 0.01651\n",
      "[50,     1] loss: 0.01650\n",
      "[51,     1] loss: 0.01646\n",
      "[52,     1] loss: 0.01646\n",
      "[53,     1] loss: 0.01643\n",
      "[54,     1] loss: 0.01642\n",
      "[55,     1] loss: 0.01641\n",
      "[56,     1] loss: 0.01639\n",
      "[57,     1] loss: 0.01637\n",
      "[58,     1] loss: 0.01634\n",
      "[59,     1] loss: 0.01633\n",
      "[60,     1] loss: 0.01631\n",
      "[61,     1] loss: 0.01630\n",
      "[62,     1] loss: 0.01630\n",
      "[63,     1] loss: 0.01627\n",
      "[64,     1] loss: 0.01625\n",
      "[65,     1] loss: 0.01623\n",
      "[66,     1] loss: 0.01624\n",
      "[67,     1] loss: 0.01622\n",
      "[68,     1] loss: 0.01621\n",
      "[69,     1] loss: 0.01619\n",
      "[70,     1] loss: 0.01619\n",
      "[71,     1] loss: 0.01618\n",
      "[72,     1] loss: 0.01616\n",
      "[73,     1] loss: 0.01614\n",
      "[74,     1] loss: 0.01612\n",
      "[75,     1] loss: 0.01612\n",
      "[76,     1] loss: 0.01612\n",
      "[77,     1] loss: 0.01609\n",
      "[78,     1] loss: 0.01609\n",
      "[79,     1] loss: 0.01607\n",
      "[80,     1] loss: 0.01609\n",
      "[81,     1] loss: 0.01608\n",
      "[82,     1] loss: 0.01607\n",
      "[83,     1] loss: 0.01605\n",
      "[84,     1] loss: 0.01604\n",
      "[85,     1] loss: 0.01603\n",
      "[86,     1] loss: 0.01603\n",
      "[87,     1] loss: 0.01601\n",
      "[88,     1] loss: 0.01601\n",
      "[89,     1] loss: 0.01601\n",
      "[90,     1] loss: 0.01597\n",
      "[91,     1] loss: 0.01588\n",
      "[92,     1] loss: 0.01577\n",
      "[93,     1] loss: 0.01579\n",
      "[94,     1] loss: 0.01572\n",
      "[95,     1] loss: 0.01560\n",
      "[96,     1] loss: 0.01557\n",
      "[97,     1] loss: 0.01553\n",
      "[98,     1] loss: 0.01549\n",
      "[99,     1] loss: 0.01548\n",
      "[100,     1] loss: 0.01544\n",
      "Finished Training\n"
     ]
    }
   ],
   "source": [
    "losses = []\n",
    "valid_losses = []\n",
    "\n",
    "for epoch in range(100):\n",
    "    running_loss = 0.0\n",
    "    for i, data in enumerate(trainloader, 0):\n",
    "        inputs, labels = data[0].to(device), data[1].to(device)\n",
    "\n",
    "        optimizer.zero_grad()\n",
    "        outputs = net(inputs)\n",
    "        loss = criterion(outputs, labels)\n",
    "        loss.backward()\n",
    "        optimizer.step()\n",
    "\n",
    "        # append the loss value to the list\n",
    "        losses.append(loss.item())\n",
    "\n",
    "        # Valid loss\n",
    "        with torch.no_grad():\n",
    "            valid_loss = 0.0\n",
    "            for i, data in enumerate(validloader, 0):\n",
    "                inputs, labels = data[0].to(device), data[1].to(device)\n",
    "                outputs = net(inputs)\n",
    "                loss = criterion(outputs, labels)\n",
    "                valid_loss += loss.item()\n",
    "            valid_losses.append(valid_loss)\n",
    "\n",
    "        print(\n",
    "            \"[%d, %5d] loss: %.5f\"\n",
    "            % (epoch + 1, i + 1, loss.item() / 100)\n",
    "        )\n",
    "\n",
    "print(\"Finished Training\")\n"
   ]
  },
  {
   "cell_type": "markdown",
   "metadata": {},
   "source": [
    "Plot the training loss (and validation loss/accuracy, if recorded)."
   ]
  },
  {
   "cell_type": "code",
   "execution_count": 54,
   "metadata": {},
   "outputs": [
    {
     "data": {
      "image/png": "[encoded data removed]",
      "text/plain": [
       "<matplotlib.figure.Figure at 0x7f0aa5da90>"
      ]
     },
     "metadata": {
      "needs_background": "light"
     },
     "output_type": "display_data"
    }
   ],
   "source": [
    "# Plot loss\n",
    "plt.plot(losses, label='Training loss')\n",
    "plt.plot(valid_losses, label='Validation loss')\n",
    "plt.legend(frameon=False)\n",
    "plt.xlabel('Epoch')\n",
    "plt.ylabel('Loss')\n",
    "plt.show()"
   ]
  },
  {
   "cell_type": "markdown",
   "metadata": {},
   "source": [
    "## Testing your model\n",
    "Using the previously created `DataLoader` for the test set, compute the percentage of correct predictions using the highest probability prediction. \n",
    "\n",
    "If your accuracy is over 90%, great work, but see if you can push a bit further! \n",
    "If your accuracy is under 90%, you'll need to make improvements.\n",
    "Go back and check your model architecture, loss function, and optimizer to make sure they're appropriate for an image classification task."
   ]
  },
  {
   "cell_type": "code",
   "execution_count": 55,
   "metadata": {},
   "outputs": [
    {
     "name": "stdout",
     "output_type": "stream",
     "text": [
      "Accuracy on training set: 0.9641249775886536\n"
     ]
    }
   ],
   "source": [
    "def accuracy(model, dataloader):\n",
    "    correct = 0\n",
    "    total = 0\n",
    "    with torch.no_grad():\n",
    "        for data in dataloader:\n",
    "            inputs, labels = data[0].to(device), data[1].to(device)\n",
    "            outputs = model(inputs)\n",
    "            _, predicted = torch.max(outputs.data, 1)\n",
    "            total += labels.size(0)\n",
    "            correct += (predicted == labels).sum()\n",
    "    \n",
    "    return correct/total\n",
    "\n",
    "print(f\"Accuracy on training set: {accuracy(net, trainloader)}\")"
   ]
  },
  {
   "cell_type": "markdown",
   "metadata": {},
   "source": [
    "## Improving your model\n",
    "\n",
    "Once your model is done training, try tweaking your hyperparameters and training again below to improve your accuracy on the test set!"
   ]
  },
  {
   "cell_type": "code",
   "execution_count": 53,
   "metadata": {},
   "outputs": [
    {
     "name": "stdout",
     "output_type": "stream",
     "text": [
      "[1,     1] loss: 0.01517\n",
      "[2,     1] loss: 0.01517\n",
      "[3,     1] loss: 0.01516\n",
      "[4,     1] loss: 0.01516\n",
      "[5,     1] loss: 0.01514\n",
      "[6,     1] loss: 0.01514\n",
      "[7,     1] loss: 0.01514\n",
      "[8,     1] loss: 0.01512\n",
      "[9,     1] loss: 0.01512\n",
      "[10,     1] loss: 0.01512\n",
      "[11,     1] loss: 0.01512\n",
      "[12,     1] loss: 0.01511\n",
      "[13,     1] loss: 0.01510\n",
      "[14,     1] loss: 0.01512\n",
      "[15,     1] loss: 0.01508\n",
      "[16,     1] loss: 0.01510\n",
      "[17,     1] loss: 0.01509\n",
      "[18,     1] loss: 0.01509\n",
      "[19,     1] loss: 0.01508\n",
      "[20,     1] loss: 0.01508\n"
     ]
    }
   ],
   "source": [
    "# Train for more epochs\n",
    "for epoch in range(20):\n",
    "    running_loss = 0.0\n",
    "    for i, data in enumerate(trainloader, 0):\n",
    "        inputs, labels = data[0].to(device), data[1].to(device)\n",
    "\n",
    "        optimizer.zero_grad()\n",
    "        outputs = net(inputs)\n",
    "        loss = criterion(outputs, labels)\n",
    "        loss.backward()\n",
    "        optimizer.step()\n",
    "\n",
    "        # append the loss value to the list\n",
    "        losses.append(loss.item())\n",
    "\n",
    "        # Valid loss\n",
    "        with torch.no_grad():\n",
    "            valid_loss = 0.0\n",
    "            for i, data in enumerate(validloader, 0):\n",
    "                inputs, labels = data[0].to(device), data[1].to(device)\n",
    "                outputs = net(inputs)\n",
    "                loss = criterion(outputs, labels)\n",
    "                valid_loss += loss.item()\n",
    "            valid_losses.append(valid_loss)\n",
    "\n",
    "        print(\n",
    "            \"[%d, %5d] loss: %.5f\"\n",
    "            % (epoch + 1, i + 1, loss.item() / 100)\n",
    "        )"
   ]
  },
  {
   "cell_type": "markdown",
   "metadata": {},
   "source": [
    "## Saving your model\n",
    "Using `torch.save`, save your model for future loading."
   ]
  },
  {
   "cell_type": "code",
   "execution_count": 56,
   "metadata": {},
   "outputs": [],
   "source": [
    "# Save\n",
    "PATH = 'mnist_net9641.pth'\n",
    "torch.save(net.state_dict(), PATH)"
   ]
  }
 ],
 "metadata": {
  "kernelspec": {
   "display_name": "Python 3",
   "language": "python",
   "name": "python3"
  },
  "language_info": {
   "codemirror_mode": {
    "name": "ipython",
    "version": 3
   },
   "file_extension": ".py",
   "mimetype": "text/x-python",
   "name": "python",
   "nbconvert_exporter": "python",
   "pygments_lexer": "ipython3",
   "version": "3.6.9"
  }
 },
 "nbformat": 4,
 "nbformat_minor": 4
}
